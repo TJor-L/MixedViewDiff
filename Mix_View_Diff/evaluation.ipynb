{
 "cells": [
  {
   "cell_type": "code",
   "execution_count": null,
   "metadata": {
    "id": "yWuRLwEfW_Iy"
   },
   "outputs": [],
   "source": []
  },
  {
   "cell_type": "markdown",
   "metadata": {
    "id": "ZeekqczT1nYB"
   },
   "source": [
    "# PSNR and SSIM"
   ]
  },
  {
   "cell_type": "code",
   "execution_count": null,
   "metadata": {
    "id": "WDG1tBUX1pLi"
   },
   "outputs": [],
   "source": [
    "import cv2\n",
    "import numpy as np\n",
    "from skimage.metrics import structural_similarity as ssim\n",
    "\n",
    "def calculate_psnr(image1, image2):\n",
    "\n",
    "    mse = np.mean((image1 - image2) ** 2)\n",
    "    if mse == 0:\n",
    "        return float('inf')\n",
    "    max_pixel = 255.0\n",
    "    psnr = 20 * np.log10(max_pixel / np.sqrt(mse))\n",
    "    return psnr\n",
    "\n",
    "def calculate_ssim_color(image1, image2):\n",
    "\n",
    "    # Ensure the images have a color channel (e.g., RGB)\n",
    "    if image1.shape[-1] != 3 or image2.shape[-1] != 3:\n",
    "        raise ValueError(\"Input images must have 3 color channels (e.g., RGB).\")\n",
    "\n",
    "    # Determine the minimum dimension and set a suitable win_size\n",
    "    min_dim = min(image1.shape[0], image1.shape[1])\n",
    "    win_size = min(7, min_dim - 1) if min_dim > 1 else 1\n",
    "\n",
    "    # Calculate SSIM for multichannel images\n",
    "    ssim_value, _ = ssim(image1, image2, full=True, channel_axis=-1, win_size=win_size)\n",
    "    return ssim_value"
   ]
  },
  {
   "cell_type": "code",
   "execution_count": null,
   "metadata": {
    "id": "g0qKRkVJTGjF"
   },
   "outputs": [],
   "source": [
    "def divide_image_vertically(image, slices=4):\n",
    "\n",
    "    height, width, channels = image.shape\n",
    "    slice_width = width // slices\n",
    "    sliced_images = []\n",
    "\n",
    "    for i in range(slices):\n",
    "        start_x = i * slice_width\n",
    "        end_x = (i + 1) * slice_width if i != slices - 1 else width\n",
    "        sliced_images.append(image[:, start_x:end_x])\n",
    "\n",
    "    return sliced_images"
   ]
  },
  {
   "cell_type": "code",
   "execution_count": null,
   "metadata": {
    "colab": {
     "base_uri": "https://localhost:8080/"
    },
    "id": "5P3pYqBu2Lq0",
    "outputId": "c044b186-ad66-46c8-bb9a-a7132830eb21"
   },
   "outputs": [
    {
     "name": "stdout",
     "output_type": "stream",
     "text": [
      "['reconstruction_gs-063085_e-000037_b-000000.png', 'reconstruction_gs-063085_e-000038_b-000001.png', 'reconstruction_gs-063085_e-000039_b-000002.png']\n"
     ]
    }
   ],
   "source": [
    "import os\n",
    "\n",
    "# Listing mock filenames to demonstrate the matching process.\n",
    "file_list = [\n",
    "    \"reconstruction_gs-063085_e-000037_b-000000.png\",\n",
    "    \"samples_cfg_scale_9.00_gs-063085_e-000037_b-000000.png\",\n",
    "    \"reconstruction_gs-063085_e-000038_b-000001.png\",\n",
    "    \"samples_cfg_scale_9.00_gs-063085_e-000038_b-000001.png\",\n",
    "    \"reconstruction_gs-063085_e-000039_b-000002.png\",\n",
    "    \"samples_cfg_scale_9.00_gs-063085_e-000039_b-000002.png\"\n",
    "]\n",
    "\n",
    "def match_reconstruction_and_sample_images(file_list):\n",
    "\n",
    "    reconstruction_image_paths = []\n",
    "    sample_image_paths = []\n",
    "\n",
    "    for file in file_list:\n",
    "        if file.startswith(\"reconstruction_\"):\n",
    "            # Extract key (e.g., \"gs-063085_e-000037_b-000000\")\n",
    "            key = \"_\".join(file.split(\"_\")[1:4])\n",
    "            # Find matching sample image\n",
    "            matching_sample = next(\n",
    "                (f for f in file_list if f.startswith(\"samples_\") and key in f), None\n",
    "            )\n",
    "            if matching_sample:\n",
    "                reconstruction_image_paths.append(file)\n",
    "                sample_image_paths.append(matching_sample)\n",
    "\n",
    "    return reconstruction_image_paths, sample_image_paths\n",
    "\n",
    "\n",
    "sample_paths,reconstruction_paths = match_reconstruction_and_sample_images(file_list)\n"
   ]
  },
  {
   "cell_type": "code",
   "execution_count": 11,
   "metadata": {
    "id": "A0TMnc7x2QcQ"
   },
   "outputs": [],
   "source": [
    "# # running examples\n",
    "# sample_paths =['samples1.png','samples2.png','samples3.png','samples4.png','samples5.png','samples6.png']\n",
    "# reconstruction_paths=['reconstruction1.png','reconstruction2.png', 'reconstruction3.png','reconstruction4.png','reconstruction5.png','reconstruction6.png']"
   ]
  },
  {
   "cell_type": "code",
   "execution_count": null,
   "metadata": {
    "colab": {
     "base_uri": "https://localhost:8080/"
    },
    "id": "IwQq6xGI1uwj",
    "outputId": "4aabefeb-2182-4312-d2c5-f291b727f119"
   },
   "outputs": [],
   "source": [
    "\n",
    "for i in range(len(sample_paths)):\n",
    "    print(f\"Index: {i}\")\n",
    "    image_path_1 = sample_paths[i]\n",
    "    image_path_2 = reconstruction_paths[i]\n",
    "\n",
    "    # Read images using OpenCV\n",
    "    image1 = cv2.imread(image_path_1)\n",
    "    image2 = cv2.imread(image_path_2)\n",
    "\n",
    "    # Ensure images have the same dimensions\n",
    "    if image1.shape != image2.shape:\n",
    "        raise ValueError(\"Input images must have the same dimensions.\")\n",
    "\n",
    "    # Divide both images into 4 slices\n",
    "    image1_slices = divide_image_vertically(image1, slices=4)\n",
    "    image2_slices = divide_image_vertically(image2, slices=4)\n",
    "\n",
    "    # Compare each slice and calculate PSNR\n",
    "    psnr_scores = []\n",
    "    ssim_scores = []\n",
    "    for i, (slice1, slice2) in enumerate(zip(image1_slices, image2_slices)):\n",
    "        psnr_value = calculate_psnr(slice1, slice2)\n",
    "        psnr_scores.append(psnr_value)\n",
    "        print(f\"Slice {i + 1} PSNR: {psnr_value:.4f} dB\")\n",
    "\n",
    "        ssim_value = calculate_ssim_color(slice1, slice2)\n",
    "        ssim_scores.append(ssim_value)\n",
    "        print(f\"Slice {i + 1} SSIM: {ssim_value:.4f} dB\")\n",
    "\n",
    "\n",
    "\n",
    "    # # Calculate PSNR\n",
    "    # psnr_value = calculate_psnr(image1, image2)\n",
    "    # print(f\"PSNR: {psnr_value} dB\")\n",
    "\n",
    "    # # Calculate SSIM\n",
    "    # ssim_value = calculate_ssim_color(image1, image2)\n",
    "    # print(f\"SSIM: {ssim_value}\")\n"
   ]
  },
  {
   "cell_type": "code",
   "execution_count": null,
   "metadata": {
    "id": "9XruL92PBZH3"
   },
   "outputs": [],
   "source": []
  }
 ],
 "metadata": {
  "colab": {
   "provenance": []
  },
  "kernelspec": {
   "display_name": "Python 3",
   "name": "python3"
  },
  "language_info": {
   "name": "python"
  }
 },
 "nbformat": 4,
 "nbformat_minor": 0
}
